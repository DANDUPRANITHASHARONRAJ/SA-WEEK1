{
 "cells": [
  {
   "cell_type": "code",
   "execution_count": 7,
   "id": "19e56da8-71c8-4890-b4b4-681dad0af51f",
   "metadata": {},
   "outputs": [
    {
     "name": "stderr",
     "output_type": "stream",
     "text": [
      "C:\\Users\\dandu\\anaconda3\\Lib\\site-packages\\sklearn\\linear_model\\_logistic.py:1247: FutureWarning: 'multi_class' was deprecated in version 1.5 and will be removed in 1.7. From then on, it will always use 'multinomial'. Leave it to its default value to avoid this warning.\n",
      "  warnings.warn(\n"
     ]
    },
    {
     "name": "stdout",
     "output_type": "stream",
     "text": [
      "Validation Accuracy: 0.915\n"
     ]
    },
    {
     "name": "stderr",
     "output_type": "stream",
     "text": [
      "C:\\Users\\dandu\\anaconda3\\Lib\\site-packages\\sklearn\\linear_model\\_logistic.py:1247: FutureWarning: 'multi_class' was deprecated in version 1.5 and will be removed in 1.7. From then on, it will always use 'multinomial'. Leave it to its default value to avoid this warning.\n",
      "  warnings.warn(\n"
     ]
    },
    {
     "name": "stdout",
     "output_type": "stream",
     "text": [
      "✅ submission.csv saved successfully\n"
     ]
    }
   ],
   "source": [
    "# Step 1: Imports\n",
    "import pandas as pd\n",
    "import numpy as np\n",
    "from sklearn.preprocessing import LabelEncoder, StandardScaler\n",
    "from sklearn.linear_model import LogisticRegression\n",
    "from sklearn.model_selection import train_test_split\n",
    "from sklearn.metrics import accuracy_score\n",
    "\n",
    "# Step 2: Load Data\n",
    "train = pd.read_csv('hacktrain.csv')\n",
    "test = pd.read_csv('hacktest.csv')\n",
    "\n",
    "# Drop unnamed index column if present\n",
    "train.drop(columns=['Unnamed: 0'], errors='ignore', inplace=True)\n",
    "test.drop(columns=['Unnamed: 0'], errors='ignore', inplace=True)\n",
    "\n",
    "# Step 3: NDVI Columns\n",
    "ndvi_cols = [col for col in train.columns if col.endswith('_N')]\n",
    "\n",
    "# Step 4: Fill Missing Values\n",
    "train[ndvi_cols] = train[ndvi_cols].fillna(train[ndvi_cols].median())\n",
    "test[ndvi_cols] = test[ndvi_cols].fillna(test[ndvi_cols].median())\n",
    "\n",
    "# Step 5: Feature Engineering\n",
    "for df in [train, test]:\n",
    "    df['NDVI_mean'] = df[ndvi_cols].mean(axis=1)\n",
    "    df['NDVI_std'] = df[ndvi_cols].std(axis=1)\n",
    "    df['NDVI_max'] = df[ndvi_cols].max(axis=1)\n",
    "    df['NDVI_min'] = df[ndvi_cols].min(axis=1)\n",
    "    df['NDVI_range'] = df['NDVI_max'] - df['NDVI_min']\n",
    "    df['NDVI_trend'] = df[ndvi_cols].apply(lambda row: np.polyfit(range(len(row)), row, 1)[0], axis=1)\n",
    "\n",
    "# Step 6: Feature Set\n",
    "feature_cols = ndvi_cols + ['NDVI_mean', 'NDVI_std', 'NDVI_max', 'NDVI_min', 'NDVI_range', 'NDVI_trend']\n",
    "\n",
    "# Step 7: Normalize Features\n",
    "scaler = StandardScaler()\n",
    "X_train_scaled = scaler.fit_transform(train[feature_cols])\n",
    "X_test_scaled = scaler.transform(test[feature_cols])\n",
    "\n",
    "# Step 8: Encode Target Labels\n",
    "le = LabelEncoder()\n",
    "y = le.fit_transform(train['class'])\n",
    "\n",
    "# Step 9: Train/Validation Split\n",
    "X_tr, X_val, y_tr, y_val = train_test_split(X_train_scaled, y, test_size=0.2, random_state=42)\n",
    "\n",
    "# Step 10: Train Logistic Regression Model\n",
    "model = LogisticRegression(max_iter=1000, multi_class='multinomial', solver='lbfgs')\n",
    "model.fit(X_tr, y_tr)\n",
    "\n",
    "# Step 11: Validation Accuracy\n",
    "val_preds = model.predict(X_val)\n",
    "print(\"Validation Accuracy:\", accuracy_score(y_val, val_preds))\n",
    "\n",
    "# Step 12: Final Model Training\n",
    "model.fit(X_train_scaled, y)\n",
    "test_preds = model.predict(X_test_scaled)\n",
    "test_labels = le.inverse_transform(test_preds)\n",
    "\n",
    "# Step 13: Submission File\n",
    "submission = pd.DataFrame({'ID': test['ID'], 'class': test_labels})\n",
    "submission.to_csv('submission.csv', index=False)\n",
    "print(\"✅ submission.csv saved successfully\")\n"
   ]
  },
  {
   "cell_type": "raw",
   "id": "730c59ee-bf8f-4b81-a42d-b34cd7997ee6",
   "metadata": {},
   "source": []
  },
  {
   "cell_type": "code",
   "execution_count": null,
   "id": "6cb02104-db19-4d71-b935-52058797ef1c",
   "metadata": {},
   "outputs": [],
   "source": []
  },
  {
   "cell_type": "code",
   "execution_count": null,
   "id": "a395f9f8-b119-422c-a1f1-39b5d998929c",
   "metadata": {},
   "outputs": [],
   "source": []
  }
 ],
 "metadata": {
  "kernelspec": {
   "display_name": "Python [conda env:base] *",
   "language": "python",
   "name": "conda-base-py"
  },
  "language_info": {
   "codemirror_mode": {
    "name": "ipython",
    "version": 3
   },
   "file_extension": ".py",
   "mimetype": "text/x-python",
   "name": "python",
   "nbconvert_exporter": "python",
   "pygments_lexer": "ipython3",
   "version": "3.12.7"
  }
 },
 "nbformat": 4,
 "nbformat_minor": 5
}
